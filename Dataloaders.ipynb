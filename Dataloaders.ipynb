{
  "nbformat": 4,
  "nbformat_minor": 0,
  "metadata": {
    "colab": {
      "provenance": [],
      "gpuType": "T4"
    },
    "kernelspec": {
      "name": "python3",
      "display_name": "Python 3"
    },
    "language_info": {
      "name": "python"
    },
    "accelerator": "GPU"
  },
  "cells": [
    {
      "cell_type": "markdown",
      "source": [
        "# **24040208008-302(P)-AIII**"
      ],
      "metadata": {
        "id": "EaMh1s3sMY2M"
      }
    },
    {
      "cell_type": "code",
      "execution_count": 1,
      "metadata": {
        "colab": {
          "base_uri": "https://localhost:8080/"
        },
        "id": "XAqyPKKgKJ23",
        "outputId": "7c23f284-aa75-4df0-8959-bee64427fda8"
      },
      "outputs": [
        {
          "output_type": "stream",
          "name": "stderr",
          "text": [
            "100%|██████████| 170M/170M [00:03<00:00, 48.4MB/s]\n",
            "100%|██████████| 170M/170M [00:03<00:00, 46.4MB/s]\n"
          ]
        },
        {
          "output_type": "stream",
          "name": "stdout",
          "text": [
            "Epoch [1/10] - Loss: 1.3765 - Train Accuracy: 52.22%\n",
            "Epoch [2/10] - Loss: 1.0933 - Train Accuracy: 62.05%\n",
            "Epoch [3/10] - Loss: 0.9912 - Train Accuracy: 65.85%\n",
            "Epoch [4/10] - Loss: 0.9273 - Train Accuracy: 68.19%\n",
            "Epoch [5/10] - Loss: 0.8824 - Train Accuracy: 69.67%\n",
            "Epoch [6/10] - Loss: 0.8455 - Train Accuracy: 70.89%\n",
            "Epoch [7/10] - Loss: 0.8135 - Train Accuracy: 72.28%\n",
            "Epoch [8/10] - Loss: 0.7856 - Train Accuracy: 73.13%\n",
            "Epoch [9/10] - Loss: 0.7611 - Train Accuracy: 73.99%\n",
            "Epoch [10/10] - Loss: 0.7335 - Train Accuracy: 74.75%\n",
            "Training Finished!\n",
            "\n",
            "Final Test Accuracy: 64.30%\n"
          ]
        }
      ],
      "source": [
        "import torch\n",
        "import torch.nn as nn\n",
        "import torch.optim as optim\n",
        "from torch.utils.data import DataLoader\n",
        "from torchvision.datasets import CIFAR10\n",
        "import torchvision.transforms as transforms\n",
        "\n",
        "transform = transforms.Compose([\n",
        "    transforms.ToTensor(),\n",
        "    transforms.Normalize((0.5, 0.5, 0.5), (0.5, 0.5, 0.5))\n",
        "])\n",
        "\n",
        "train_data = CIFAR10(root=\"./train/\", train=True, download=True, transform=transform)\n",
        "test_data = CIFAR10(root=\"./test/\", train=False, download=True, transform=transform)\n",
        "\n",
        "train_loader = DataLoader(train_data, batch_size=64, shuffle=True, num_workers=2)\n",
        "test_loader = DataLoader(test_data, batch_size=64, shuffle=False, num_workers=2)\n",
        "\n",
        "classes = train_data.classes\n",
        "\n",
        "\n",
        "class SimpleCNN(nn.Module):\n",
        "    def __init__(self):\n",
        "        super(SimpleCNN, self).__init__()\n",
        "        self.conv1 = nn.Conv2d(3, 32, 3, padding=1)\n",
        "        self.pool = nn.MaxPool2d(2, 2)\n",
        "        self.fc1 = nn.Linear(32 * 16 * 16, 10)\n",
        "\n",
        "    def forward(self, x):\n",
        "        x = self.pool(torch.relu(self.conv1(x)))\n",
        "        x = x.view(-1, 32 * 16 * 16)\n",
        "        x = self.fc1(x)\n",
        "        return x\n",
        "\n",
        "device = torch.device('cuda' if torch.cuda.is_available() else 'cpu')\n",
        "model = SimpleCNN().to(device)\n",
        "criterion = nn.CrossEntropyLoss()\n",
        "optimizer = optim.Adam(model.parameters(), lr=0.001)\n",
        "\n",
        "\n",
        "EPOCHS = 10\n",
        "for epoch in range(EPOCHS):\n",
        "    model.train()\n",
        "    running_loss = 0.0\n",
        "    correct = 0\n",
        "    total = 0\n",
        "\n",
        "    for images, labels in train_loader:\n",
        "        images, labels = images.to(device), labels.to(device)\n",
        "\n",
        "        optimizer.zero_grad()\n",
        "        outputs = model(images)\n",
        "        loss = criterion(outputs, labels)\n",
        "        loss.backward()\n",
        "        optimizer.step()\n",
        "\n",
        "        running_loss += loss.item()\n",
        "\n",
        "\n",
        "        _, predicted = torch.max(outputs, 1)\n",
        "        total += labels.size(0)\n",
        "        correct += (predicted == labels).sum().item()\n",
        "\n",
        "    train_accuracy = 100 * correct / total\n",
        "    avg_loss = running_loss / len(train_loader)\n",
        "    print(f\"Epoch [{epoch+1}/{EPOCHS}] - Loss: {avg_loss:.4f} - Train Accuracy: {train_accuracy:.2f}%\")\n",
        "\n",
        "print(\"Training Finished!\")\n",
        "\n",
        "model.eval()\n",
        "correct = 0\n",
        "total = 0\n",
        "with torch.no_grad():\n",
        "    for images, labels in test_loader:\n",
        "        images, labels = images.to(device), labels.to(device)\n",
        "        outputs = model(images)\n",
        "        _, predicted = torch.max(outputs, 1)\n",
        "        total += labels.size(0)\n",
        "        correct += (predicted == labels).sum().item()\n",
        "\n",
        "test_accuracy = 100 * correct / total\n",
        "print(f\"\\nFinal Test Accuracy: {test_accuracy:.2f}%\")\n"
      ]
    }
  ]
}