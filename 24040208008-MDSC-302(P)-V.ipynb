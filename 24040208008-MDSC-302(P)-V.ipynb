{
  "nbformat": 4,
  "nbformat_minor": 0,
  "metadata": {
    "colab": {
      "provenance": [],
      "gpuType": "T4",
      "authorship_tag": "ABX9TyPTxW97GLHlak6Mc6WDU3+Z",
      "include_colab_link": true
    },
    "kernelspec": {
      "name": "python3",
      "display_name": "Python 3"
    },
    "language_info": {
      "name": "python"
    },
    "accelerator": "GPU"
  },
  "cells": [
    {
      "cell_type": "markdown",
      "metadata": {
        "id": "view-in-github",
        "colab_type": "text"
      },
      "source": [
        "<a href=\"https://colab.research.google.com/github/tusharsharm/MDSC-302/blob/main/24040208008-MDSC-302(P)-V.ipynb\" target=\"_parent\"><img src=\"https://colab.research.google.com/assets/colab-badge.svg\" alt=\"Open In Colab\"/></a>"
      ]
    },
    {
      "cell_type": "markdown",
      "source": [
        "#24040208008-MDSC-302(P)-V"
      ],
      "metadata": {
        "id": "AG-mOFr8n7nw"
      }
    },
    {
      "cell_type": "code",
      "execution_count": null,
      "metadata": {
        "id": "Fi9WoWxadvzr"
      },
      "outputs": [],
      "source": [
        "\n",
        "from torchvision import datasets, transforms\n",
        "data_path = '/content/p1ch7/'\n",
        "\n"
      ]
    },
    {
      "cell_type": "code",
      "source": [
        "# Load the CIFAR10 training dataset\n",
        "cifar10 = datasets.CIFAR10(\n",
        "    data_path, train=True, download=True, # Specify data path, set to training set, and download if not present\n",
        "    transform=transforms.Compose([\n",
        "        transforms.ToTensor(), # Convert images to PyTorch tensors\n",
        "        transforms.Normalize((0.4915, 0.4823, 0.4468), # Normalize the image tensors with mean and standard deviation\n",
        "                             (0.2470, 0.2435, 0.2616))\n",
        "    ]))"
      ],
      "metadata": {
        "colab": {
          "base_uri": "https://localhost:8080/"
        },
        "id": "VO8JKie5fqq7",
        "outputId": "b4de820e-2677-42b8-b9be-5e501383d60b"
      },
      "execution_count": null,
      "outputs": [
        {
          "output_type": "stream",
          "name": "stderr",
          "text": [
            "100%|██████████| 170M/170M [00:03<00:00, 43.6MB/s]\n"
          ]
        }
      ]
    },
    {
      "cell_type": "code",
      "source": [
        "# Load the CIFAR10 validation dataset\n",
        "cifar10_val = datasets.CIFAR10(\n",
        "    data_path, train=False, download=False, # Specify data path, set to validation set, and do not download as it should be present\n",
        "    transform=transforms.Compose([\n",
        "        transforms.ToTensor(), # Convert images to PyTorch tensors\n",
        "        transforms.Normalize((0.4915, 0.4823, 0.4468), # Normalize the image tensors with mean and standard deviation\n",
        "                             (0.2470, 0.2435, 0.2616))\n",
        "    ]))"
      ],
      "metadata": {
        "id": "CAcIzDwkhjpz"
      },
      "execution_count": null,
      "outputs": []
    },
    {
      "cell_type": "code",
      "source": [
        "# Define a mapping for the original labels (0 and 2) to new labels (0 and 1)\n",
        "label_map = {0: 0, 2: 1}\n",
        "# Define the names for the new classes\n",
        "class_names = ['airplane', 'bird']\n",
        "\n",
        "# Create a new dataset 'cifar2' by filtering the training data (cifar10)\n",
        "# to include only images with original labels 0 (airplane) or 2 (bird)\n",
        "# The original labels are mapped to the new labels using label_map\n",
        "cifar2 = [(img, label_map[label])\n",
        "          for img, label in cifar10\n",
        "          if label in [0, 2]]\n",
        "\n",
        "# Create a new dataset 'cifar2_val' by filtering the validation data (cifar10_val)\n",
        "# to include only images with original labels 0 (airplane) or 2 (bird)\n",
        "# The original labels are mapped to the new labels using label_map\n",
        "cifar2_val = [(img, label_map[label])\n",
        "              for img, label in cifar10_val\n",
        "              if label in [0, 2]]"
      ],
      "metadata": {
        "id": "8AjMrQdfhmdJ"
      },
      "execution_count": null,
      "outputs": []
    },
    {
      "cell_type": "code",
      "source": [
        "import torch\n",
        "import torch.nn as nn\n",
        "import torch.nn.functional as F\n",
        "import torch.optim as optim\n",
        "\n",
        "# Create a DataLoader for the training dataset\n",
        "train_loader = torch.utils.data.DataLoader(cifar2, batch_size=64,\n",
        "                                           shuffle=True)\n",
        "\n",
        "# Define the neural network model\n",
        "class Net(nn.Module):\n",
        "    def __init__(self):\n",
        "        super(Net, self).__init__()\n",
        "        # First convolutional layer: 3 input channels (RGB), 16 output channels, 3x3 kernel, 1 pixel padding\n",
        "        self.conv1 = nn.Conv2d(3, 16, kernel_size=3, padding=1)\n",
        "        # Second convolutional layer: 16 input channels, 8 output channels, 3x3 kernel, 1 pixel padding\n",
        "        self.conv2 = nn.Conv2d(16, 8, kernel_size=3, padding=1)\n",
        "        # First fully connected layer: input size 8*8*8 (from pooled conv output), output size 32\n",
        "        self.fc1 = nn.Linear(8 * 8 * 8, 32)\n",
        "        # Second fully connected layer: input size 32, output size 2 (for two classes: airplane or bird)\n",
        "        self.fc2 = nn.Linear(32, 2)\n",
        "\n",
        "    # Define the forward pass\n",
        "    def forward(self, x):\n",
        "        # Apply first convolution, ReLU activation, and 2x2 max pooling\n",
        "        out = F.max_pool2d(torch.relu(self.conv1(x)), 2)\n",
        "        # Apply second convolution, ReLU activation, and 2x2 max pooling\n",
        "        out = F.max_pool2d(torch.relu(self.conv2(out)), 2)\n",
        "        # Flatten the output for the fully connected layers\n",
        "        out = out.view(-1, 8 * 8 * 8)\n",
        "        # Apply first fully connected layer and tanh activation\n",
        "        out = torch.tanh(self.fc1(out))\n",
        "        # Apply second fully connected layer (output layer)\n",
        "        out = self.fc2(out)\n",
        "        return out\n",
        "\n",
        "# Instantiate the network model\n",
        "model = Net()\n",
        "\n",
        "# Define the learning rate\n",
        "learning_rate = 1e-2\n",
        "\n",
        "# Define the optimizer (Stochastic Gradient Descent)\n",
        "optimizer = optim.SGD(model.parameters(), lr=learning_rate)\n",
        "\n",
        "# Define the loss function (Cross-Entropy Loss for classification)\n",
        "loss_fn = nn.CrossEntropyLoss()\n",
        "\n",
        "# Define the number of training epochs\n",
        "n_epochs = 100\n",
        "\n",
        "# Training loop\n",
        "for epoch in range(n_epochs):\n",
        "    # Iterate over batches in the training data\n",
        "    for imgs, labels in train_loader:\n",
        "        # Get model outputs for the current batch\n",
        "        outputs = model(imgs)\n",
        "        # Calculate the loss\n",
        "        loss = loss_fn(outputs, labels)\n",
        "\n",
        "        # Zero the gradients, perform backpropagation, and update weights\n",
        "        optimizer.zero_grad()\n",
        "        loss.backward()\n",
        "        optimizer.step()\n",
        "\n",
        "    # Print the loss after each epoch\n",
        "    print(\"Epoch: %d, Loss: %f\" % (epoch, float(loss)))"
      ],
      "metadata": {
        "colab": {
          "base_uri": "https://localhost:8080/"
        },
        "id": "5kXB4oDxh_Uy",
        "outputId": "9d52a796-0a84-4872-ce29-5cf540bdf147"
      },
      "execution_count": null,
      "outputs": [
        {
          "output_type": "stream",
          "name": "stderr",
          "text": [
            "/tmp/ipython-input-1016970036.py:67: UserWarning: Converting a tensor with requires_grad=True to a scalar may lead to unexpected behavior.\n",
            "Consider using tensor.detach() first. (Triggered internally at /pytorch/torch/csrc/autograd/generated/python_variable_methods.cpp:835.)\n",
            "  print(\"Epoch: %d, Loss: %f\" % (epoch, float(loss)))\n"
          ]
        },
        {
          "output_type": "stream",
          "name": "stdout",
          "text": [
            "Epoch: 0, Loss: 0.543850\n",
            "Epoch: 1, Loss: 0.580809\n",
            "Epoch: 2, Loss: 0.398413\n",
            "Epoch: 3, Loss: 0.653744\n",
            "Epoch: 4, Loss: 0.241510\n",
            "Epoch: 5, Loss: 0.543811\n",
            "Epoch: 6, Loss: 0.299707\n",
            "Epoch: 7, Loss: 0.454672\n",
            "Epoch: 8, Loss: 0.205742\n",
            "Epoch: 9, Loss: 0.565841\n",
            "Epoch: 10, Loss: 0.571185\n",
            "Epoch: 11, Loss: 0.454910\n",
            "Epoch: 12, Loss: 0.391203\n",
            "Epoch: 13, Loss: 0.308612\n",
            "Epoch: 14, Loss: 0.222387\n",
            "Epoch: 15, Loss: 0.162261\n",
            "Epoch: 16, Loss: 0.537388\n",
            "Epoch: 17, Loss: 0.440321\n",
            "Epoch: 18, Loss: 0.216916\n",
            "Epoch: 19, Loss: 0.211631\n",
            "Epoch: 20, Loss: 0.468714\n",
            "Epoch: 21, Loss: 0.509593\n",
            "Epoch: 22, Loss: 0.434849\n",
            "Epoch: 23, Loss: 0.253481\n",
            "Epoch: 24, Loss: 0.102826\n",
            "Epoch: 25, Loss: 0.407321\n",
            "Epoch: 26, Loss: 0.315105\n",
            "Epoch: 27, Loss: 0.088072\n",
            "Epoch: 28, Loss: 0.529045\n",
            "Epoch: 29, Loss: 0.147682\n",
            "Epoch: 30, Loss: 0.310716\n",
            "Epoch: 31, Loss: 0.316833\n",
            "Epoch: 32, Loss: 0.154504\n",
            "Epoch: 33, Loss: 0.459508\n",
            "Epoch: 34, Loss: 0.165526\n",
            "Epoch: 35, Loss: 0.327768\n",
            "Epoch: 36, Loss: 0.543515\n",
            "Epoch: 37, Loss: 0.181486\n",
            "Epoch: 38, Loss: 0.259845\n",
            "Epoch: 39, Loss: 0.062402\n",
            "Epoch: 40, Loss: 0.350146\n",
            "Epoch: 41, Loss: 0.160112\n",
            "Epoch: 42, Loss: 0.347095\n",
            "Epoch: 43, Loss: 0.091533\n",
            "Epoch: 44, Loss: 0.349668\n",
            "Epoch: 45, Loss: 0.225545\n",
            "Epoch: 46, Loss: 0.042780\n",
            "Epoch: 47, Loss: 0.165419\n",
            "Epoch: 48, Loss: 0.257899\n",
            "Epoch: 49, Loss: 0.217487\n",
            "Epoch: 50, Loss: 0.399970\n",
            "Epoch: 51, Loss: 0.064844\n",
            "Epoch: 52, Loss: 0.232123\n",
            "Epoch: 53, Loss: 0.342670\n",
            "Epoch: 54, Loss: 0.186012\n",
            "Epoch: 55, Loss: 0.400162\n",
            "Epoch: 56, Loss: 0.351894\n",
            "Epoch: 57, Loss: 0.155161\n",
            "Epoch: 58, Loss: 0.131754\n",
            "Epoch: 59, Loss: 0.306971\n",
            "Epoch: 60, Loss: 0.237010\n",
            "Epoch: 61, Loss: 0.183059\n",
            "Epoch: 62, Loss: 0.385465\n",
            "Epoch: 63, Loss: 0.248797\n",
            "Epoch: 64, Loss: 0.259705\n",
            "Epoch: 65, Loss: 0.128921\n",
            "Epoch: 66, Loss: 0.206888\n",
            "Epoch: 67, Loss: 0.265641\n",
            "Epoch: 68, Loss: 0.121218\n",
            "Epoch: 69, Loss: 0.508339\n",
            "Epoch: 70, Loss: 0.103313\n",
            "Epoch: 71, Loss: 0.407654\n",
            "Epoch: 72, Loss: 0.205457\n",
            "Epoch: 73, Loss: 0.156929\n",
            "Epoch: 74, Loss: 0.191201\n",
            "Epoch: 75, Loss: 0.111612\n",
            "Epoch: 76, Loss: 0.083566\n",
            "Epoch: 77, Loss: 0.069724\n",
            "Epoch: 78, Loss: 0.189384\n",
            "Epoch: 79, Loss: 0.169265\n",
            "Epoch: 80, Loss: 0.105988\n",
            "Epoch: 81, Loss: 0.130353\n",
            "Epoch: 82, Loss: 0.034091\n",
            "Epoch: 83, Loss: 0.047729\n",
            "Epoch: 84, Loss: 0.261977\n",
            "Epoch: 85, Loss: 0.133068\n",
            "Epoch: 86, Loss: 0.083837\n",
            "Epoch: 87, Loss: 0.030448\n",
            "Epoch: 88, Loss: 0.047946\n",
            "Epoch: 89, Loss: 0.243087\n",
            "Epoch: 90, Loss: 0.093934\n",
            "Epoch: 91, Loss: 0.077881\n",
            "Epoch: 92, Loss: 0.144855\n",
            "Epoch: 93, Loss: 0.023041\n",
            "Epoch: 94, Loss: 0.157875\n",
            "Epoch: 95, Loss: 0.214420\n",
            "Epoch: 96, Loss: 0.064621\n",
            "Epoch: 97, Loss: 0.087428\n",
            "Epoch: 98, Loss: 0.113236\n",
            "Epoch: 99, Loss: 0.179738\n"
          ]
        }
      ]
    },
    {
      "cell_type": "code",
      "source": [
        "# Create a DataLoader for the training dataset, ensuring shuffle is False for consistent evaluation\n",
        "train_loader = torch.utils.data.DataLoader(cifar2, batch_size=64,\n",
        "                                           shuffle=False)\n",
        "\n",
        "correct = 0\n",
        "total = 0\n",
        "\n",
        "# Disable gradient calculation for evaluation\n",
        "with torch.no_grad():\n",
        "    # Iterate over the training data\n",
        "    for imgs, labels in train_loader:\n",
        "        # Get model predictions. Pass the images directly to the model.\n",
        "        outputs = model(imgs)\n",
        "        # Get the predicted class by finding the index of the maximum output value\n",
        "        _, predicted = torch.max(outputs, dim=1)\n",
        "        # Update the total number of samples\n",
        "        total += labels.shape[0]\n",
        "        # Update the number of correct predictions\n",
        "        correct += int((predicted == labels).sum())\n",
        "\n",
        "# Print the accuracy on the training set\n",
        "print(\"Accuracy: %f\" % (correct / total))"
      ],
      "metadata": {
        "colab": {
          "base_uri": "https://localhost:8080/"
        },
        "id": "VesUkIu6i9vC",
        "outputId": "81c125cc-1f37-4c93-8794-ba365e901064"
      },
      "execution_count": null,
      "outputs": [
        {
          "output_type": "stream",
          "name": "stdout",
          "text": [
            "Accuracy: 0.949300\n"
          ]
        }
      ]
    },
    {
      "cell_type": "code",
      "source": [
        "# Create a DataLoader for the validation dataset, ensuring shuffle is False for consistent evaluation\n",
        "val_loader = torch.utils.data.DataLoader(cifar2_val, batch_size=64,\n",
        "                                         shuffle=False)\n",
        "\n",
        "correct = 0\n",
        "total = 0\n",
        "\n",
        "# Disable gradient calculation for evaluation\n",
        "with torch.no_grad():\n",
        "    # Iterate over the validation data\n",
        "    for imgs, labels in val_loader:\n",
        "        # Get model predictions. Pass the images directly to the model.\n",
        "        outputs = model(imgs)\n",
        "        # Get the predicted class by finding the index of the maximum output value\n",
        "        _, predicted = torch.max(outputs, dim=1)\n",
        "        # Update the total number of samples\n",
        "        total += labels.shape[0]\n",
        "        # Update the number of correct predictions\n",
        "        correct += int((predicted == labels).sum())\n",
        "\n",
        "# Print the accuracy on the validation set\n",
        "print(\"Accuracy: %f\" % (correct / total))"
      ],
      "metadata": {
        "colab": {
          "base_uri": "https://localhost:8080/"
        },
        "id": "92voPzXGi_5f",
        "outputId": "f2c05519-659c-427b-cf8c-a23687ac9c19"
      },
      "execution_count": null,
      "outputs": [
        {
          "output_type": "stream",
          "name": "stdout",
          "text": [
            "Accuracy: 0.890500\n"
          ]
        }
      ]
    }
  ]
}