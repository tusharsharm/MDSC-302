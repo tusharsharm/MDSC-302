{
  "nbformat": 4,
  "nbformat_minor": 0,
  "metadata": {
    "colab": {
      "provenance": [],
      "include_colab_link": true
    },
    "kernelspec": {
      "name": "python3",
      "display_name": "Python 3"
    },
    "language_info": {
      "name": "python"
    }
  },
  "cells": [
    {
      "cell_type": "markdown",
      "metadata": {
        "id": "view-in-github",
        "colab_type": "text"
      },
      "source": [
        "<a href=\"https://colab.research.google.com/github/tusharsharm/MDSC-302/blob/main/Deep_Learning%20%7C%20MDSC302%20%7C%2024040208008%20AS_1.ipynb\" target=\"_parent\"><img src=\"https://colab.research.google.com/assets/colab-badge.svg\" alt=\"Open In Colab\"/></a>"
      ]
    },
    {
      "cell_type": "markdown",
      "source": [
        "# MDSC 302 | Deep Learning Lab  | Assignment 1"
      ],
      "metadata": {
        "id": "cogr6bRdjgf0"
      }
    },
    {
      "cell_type": "markdown",
      "source": [
        "# **Constructing a tensor**\n",
        "## Tensors are the building blocks for representing data in PyTorch.\n"
      ],
      "metadata": {
        "id": "oSAhghVqszuJ"
      }
    },
    {
      "cell_type": "markdown",
      "source": [
        "### Imports the torch module"
      ],
      "metadata": {
        "id": "xfywZMr8R-8H"
      }
    },
    {
      "cell_type": "code",
      "execution_count": 1,
      "metadata": {
        "id": "HzeiVc0oa4tV"
      },
      "outputs": [],
      "source": [
        "import torch"
      ]
    },
    {
      "cell_type": "markdown",
      "source": [
        "### Create a one-dimensional tensor of size 3 filled with 1s"
      ],
      "metadata": {
        "id": "A0yBV-9ni4lx"
      }
    },
    {
      "cell_type": "code",
      "source": [
        "a = torch.ones(10)"
      ],
      "metadata": {
        "id": "ANVt9ZwEs2gW"
      },
      "execution_count": 2,
      "outputs": []
    },
    {
      "cell_type": "code",
      "source": [
        "a"
      ],
      "metadata": {
        "colab": {
          "base_uri": "https://localhost:8080/"
        },
        "id": "jniGjZGgtBII",
        "outputId": "7027678c-46dc-461c-df4c-8d0234eb9650"
      },
      "execution_count": 3,
      "outputs": [
        {
          "output_type": "execute_result",
          "data": {
            "text/plain": [
              "tensor([1., 1., 1., 1., 1., 1., 1., 1., 1., 1.])"
            ]
          },
          "metadata": {},
          "execution_count": 3
        }
      ]
    },
    {
      "cell_type": "code",
      "source": [
        "a[1]"
      ],
      "metadata": {
        "colab": {
          "base_uri": "https://localhost:8080/"
        },
        "id": "BpHOjlemtHrA",
        "outputId": "772d4fc7-3bcf-4bf0-a0bd-0bae26bc78e6"
      },
      "execution_count": 4,
      "outputs": [
        {
          "output_type": "execute_result",
          "data": {
            "text/plain": [
              "tensor(1.)"
            ]
          },
          "metadata": {},
          "execution_count": 4
        }
      ]
    },
    {
      "cell_type": "code",
      "source": [
        "float(a[1])"
      ],
      "metadata": {
        "colab": {
          "base_uri": "https://localhost:8080/"
        },
        "id": "hNnPFsSwtlAe",
        "outputId": "0f1879ab-1d12-4c05-ae7c-298e0560bbf1"
      },
      "execution_count": 5,
      "outputs": [
        {
          "output_type": "execute_result",
          "data": {
            "text/plain": [
              "1.0"
            ]
          },
          "metadata": {},
          "execution_count": 5
        }
      ]
    },
    {
      "cell_type": "code",
      "source": [
        "a[2] = 2.0"
      ],
      "metadata": {
        "id": "emOmgMG6t_vI"
      },
      "execution_count": 6,
      "outputs": []
    },
    {
      "cell_type": "code",
      "source": [
        "a"
      ],
      "metadata": {
        "colab": {
          "base_uri": "https://localhost:8080/"
        },
        "id": "fWWlLqyJuEF_",
        "outputId": "1fc3caa4-333b-4e37-d068-dce5d9360de0"
      },
      "execution_count": 7,
      "outputs": [
        {
          "output_type": "execute_result",
          "data": {
            "text/plain": [
              "tensor([1., 1., 2., 1., 1., 1., 1., 1., 1., 1.])"
            ]
          },
          "metadata": {},
          "execution_count": 7
        }
      ]
    },
    {
      "cell_type": "markdown",
      "source": [
        "# Indexing tensors"
      ],
      "metadata": {
        "id": "mVluWg8mQ9yD"
      }
    },
    {
      "cell_type": "markdown",
      "source": [
        "- Using .zeros is just a way to get\n",
        "an appropriately sized array.\n",
        "- We overwrite those zeros with\n",
        "the values we actually want."
      ],
      "metadata": {
        "id": "i17cIJb3SKzB"
      }
    },
    {
      "cell_type": "code",
      "source": [
        "points = torch.zeros(6)\n",
        "points[0] = 4.0\n",
        "points[1] = 1.0\n",
        "points[2] = 5.0\n",
        "points[3] = 8.0\n",
        "points[4] = 9.0\n",
        "points[5] = 1.0\n"
      ],
      "metadata": {
        "id": "ix1EAJPSug6Y"
      },
      "execution_count": 8,
      "outputs": []
    },
    {
      "cell_type": "markdown",
      "source": [
        "### We can also pass a Python list to the constructor, to the same effect:"
      ],
      "metadata": {
        "id": "23zbbr4hSP4A"
      }
    },
    {
      "cell_type": "code",
      "source": [
        "points = torch.tensor([4.0, 1.0, 5.0, 3.0, 2.0, 1.0])\n",
        "points"
      ],
      "metadata": {
        "colab": {
          "base_uri": "https://localhost:8080/"
        },
        "id": "1z5C0H07vJMJ",
        "outputId": "45ac6df1-4466-45e4-e42b-2b35769e4bec"
      },
      "execution_count": 9,
      "outputs": [
        {
          "output_type": "execute_result",
          "data": {
            "text/plain": [
              "tensor([4., 1., 5., 3., 2., 1.])"
            ]
          },
          "metadata": {},
          "execution_count": 9
        }
      ]
    },
    {
      "cell_type": "markdown",
      "source": [
        "### To get the coordinates of the first point, we do the following:"
      ],
      "metadata": {
        "id": "xdyK1LYoSTJA"
      }
    },
    {
      "cell_type": "code",
      "source": [
        "float(points[0]), float(points[1])"
      ],
      "metadata": {
        "colab": {
          "base_uri": "https://localhost:8080/"
        },
        "id": "_NrEyapUwAD3",
        "outputId": "30e2544a-1845-4d87-d7c0-5313de73143a"
      },
      "execution_count": 10,
      "outputs": [
        {
          "output_type": "execute_result",
          "data": {
            "text/plain": [
              "(4.0, 1.0)"
            ]
          },
          "metadata": {},
          "execution_count": 10
        }
      ]
    },
    {
      "cell_type": "markdown",
      "source": [
        "### we can use a 2D tensor:"
      ],
      "metadata": {
        "id": "Uo1NH7wMSY1S"
      }
    },
    {
      "cell_type": "code",
      "source": [
        "points = torch.tensor([[4.0, 1.0], [5.0, 3.0], [2.0, 1.0]])\n",
        "points"
      ],
      "metadata": {
        "colab": {
          "base_uri": "https://localhost:8080/"
        },
        "id": "_rO0ktigwOhQ",
        "outputId": "3ed0ef1a-5696-420d-9860-dafbd68912c6"
      },
      "execution_count": 11,
      "outputs": [
        {
          "output_type": "execute_result",
          "data": {
            "text/plain": [
              "tensor([[4., 1.],\n",
              "        [5., 3.],\n",
              "        [2., 1.]])"
            ]
          },
          "metadata": {},
          "execution_count": 11
        }
      ]
    },
    {
      "cell_type": "markdown",
      "source": [
        "###We can ask the tensor about its shape:"
      ],
      "metadata": {
        "id": "GiTiVwhgSkcu"
      }
    },
    {
      "cell_type": "code",
      "source": [
        "points.shape"
      ],
      "metadata": {
        "colab": {
          "base_uri": "https://localhost:8080/"
        },
        "id": "nN7qTMClwTAp",
        "outputId": "a405159f-4fd0-44cd-bea6-4199fe0e9a83"
      },
      "execution_count": 12,
      "outputs": [
        {
          "output_type": "execute_result",
          "data": {
            "text/plain": [
              "torch.Size([3, 2])"
            ]
          },
          "metadata": {},
          "execution_count": 12
        }
      ]
    },
    {
      "cell_type": "markdown",
      "source": [
        "- This informs us about the size of the tensor along each dimension.\n",
        "- We could also use\n",
        "zeros or ones to initialize the tensor, providing the size as a tuple:"
      ],
      "metadata": {
        "id": "UdYPpmEpS_GW"
      }
    },
    {
      "cell_type": "code",
      "source": [
        "points = torch.ones(3, 2)\n",
        "points"
      ],
      "metadata": {
        "colab": {
          "base_uri": "https://localhost:8080/"
        },
        "id": "yz0qQV11wVje",
        "outputId": "191fa365-d4ce-4eb1-ae2f-65fec8158963"
      },
      "execution_count": 13,
      "outputs": [
        {
          "output_type": "execute_result",
          "data": {
            "text/plain": [
              "tensor([[1., 1.],\n",
              "        [1., 1.],\n",
              "        [1., 1.]])"
            ]
          },
          "metadata": {},
          "execution_count": 13
        }
      ]
    },
    {
      "cell_type": "markdown",
      "source": [
        "###we can access an individual element in the tensor using two indices:"
      ],
      "metadata": {
        "id": "gPhm-vqnTGmD"
      }
    },
    {
      "cell_type": "code",
      "source": [
        "points = torch.tensor([[4.0, 1.0], [5.0, 3.0], [2.0, 1.0]])\n",
        "points"
      ],
      "metadata": {
        "colab": {
          "base_uri": "https://localhost:8080/"
        },
        "id": "YEkleUo_wxEx",
        "outputId": "58919524-9ca2-40b5-88cf-785cf945faa7"
      },
      "execution_count": 14,
      "outputs": [
        {
          "output_type": "execute_result",
          "data": {
            "text/plain": [
              "tensor([[4., 1.],\n",
              "        [5., 3.],\n",
              "        [2., 1.]])"
            ]
          },
          "metadata": {},
          "execution_count": 14
        }
      ]
    },
    {
      "cell_type": "markdown",
      "source": [
        "# Named Tensors"
      ],
      "metadata": {
        "id": "pR64hSItULdw"
      }
    },
    {
      "cell_type": "markdown",
      "source": [
        "## Named tensors  allow you to assign meaningful names to the dimensions of a tensor, rather than just referring to them by their numerical index."
      ],
      "metadata": {
        "id": "L3rzJE_7W698"
      }
    },
    {
      "cell_type": "code",
      "source": [
        "img_t = torch.randn(3, 5, 5) # shape [channels, rows, columns]\n",
        "weights = torch.tensor([0.2126, 0.7152, 0.0722])"
      ],
      "metadata": {
        "id": "s80R3PetUNrR"
      },
      "execution_count": 15,
      "outputs": []
    },
    {
      "cell_type": "code",
      "source": [
        "batch_t = torch.randn(2, 3, 5, 5) # shape [batch, channels, rows, columns]"
      ],
      "metadata": {
        "id": "A6keFvRQVjwQ"
      },
      "execution_count": 16,
      "outputs": []
    },
    {
      "cell_type": "code",
      "source": [
        "img_gray_naive = img_t.mean(-3)\n",
        "batch_gray_naive = batch_t.mean(-3)\n",
        "img_gray_naive.shape, batch_gray_naive.shape"
      ],
      "metadata": {
        "colab": {
          "base_uri": "https://localhost:8080/"
        },
        "id": "ZmZJ_sQBVsgp",
        "outputId": "58170a1f-be57-4d01-d0b3-f2187389fd38"
      },
      "execution_count": 17,
      "outputs": [
        {
          "output_type": "execute_result",
          "data": {
            "text/plain": [
              "(torch.Size([5, 5]), torch.Size([2, 5, 5]))"
            ]
          },
          "metadata": {},
          "execution_count": 17
        }
      ]
    },
    {
      "cell_type": "markdown",
      "source": [
        "## PyTorch will allow us to multiply things that are the same shape, as well as shapes where one operand is of size 1 in a given dimension.\n",
        "##It also appends leading dimensions of size 1 automatically. This is a feature called **broadcasting**."
      ],
      "metadata": {
        "id": "hzh8AEFpXaRX"
      }
    },
    {
      "cell_type": "code",
      "source": [
        "unsqueezed_weights = weights.unsqueeze(-1).unsqueeze_(-1)\n",
        "img_weights = (img_t * unsqueezed_weights)\n",
        "batch_weights = (batch_t * unsqueezed_weights)\n",
        "img_gray_weighted = img_weights.sum(-3)\n",
        "batch_gray_weighted = batch_weights.sum(-3)\n",
        "batch_weights.shape, batch_t.shape, unsqueezed_weights.shape"
      ],
      "metadata": {
        "colab": {
          "base_uri": "https://localhost:8080/"
        },
        "id": "gLuHtpf7WNsd",
        "outputId": "c09546f4-a3ab-4c07-eaab-eeb389d3a25f"
      },
      "execution_count": 18,
      "outputs": [
        {
          "output_type": "execute_result",
          "data": {
            "text/plain": [
              "(torch.Size([2, 3, 5, 5]), torch.Size([2, 3, 5, 5]), torch.Size([3, 1, 1]))"
            ]
          },
          "metadata": {},
          "execution_count": 18
        }
      ]
    },
    {
      "cell_type": "code",
      "source": [
        "img_gray_weighted_fancy = torch.einsum('...chw,c->...hw', img_t, weights)\n",
        "batch_gray_weighted_fancy = torch.einsum('...chw,c->...hw', batch_t, weights)\n",
        "batch_gray_weighted_fancy.shape"
      ],
      "metadata": {
        "colab": {
          "base_uri": "https://localhost:8080/"
        },
        "id": "3a_RBsetWWf_",
        "outputId": "f8561c7d-dabb-4d9c-addf-adf258ad1134"
      },
      "execution_count": 19,
      "outputs": [
        {
          "output_type": "execute_result",
          "data": {
            "text/plain": [
              "torch.Size([2, 5, 5])"
            ]
          },
          "metadata": {},
          "execution_count": 19
        }
      ]
    },
    {
      "cell_type": "code",
      "source": [
        "weights_named = torch.tensor([0.2126, 0.7152, 0.0722], names=['channels'])\n",
        "weights_named"
      ],
      "metadata": {
        "colab": {
          "base_uri": "https://localhost:8080/"
        },
        "id": "MjlBdhdkXwYr",
        "outputId": "4eca61d3-bd27-4840-9dca-cd6e5697340b"
      },
      "execution_count": 20,
      "outputs": [
        {
          "output_type": "stream",
          "name": "stderr",
          "text": [
            "/tmp/ipython-input-20-2371314847.py:1: UserWarning: Named tensors and all their associated APIs are an experimental feature and subject to change. Please do not use them for anything important until they are released as stable. (Triggered internally at /pytorch/c10/core/TensorImpl.h:1935.)\n",
            "  weights_named = torch.tensor([0.2126, 0.7152, 0.0722], names=['channels'])\n"
          ]
        },
        {
          "output_type": "execute_result",
          "data": {
            "text/plain": [
              "tensor([0.2126, 0.7152, 0.0722], names=('channels',))"
            ]
          },
          "metadata": {},
          "execution_count": 20
        }
      ]
    },
    {
      "cell_type": "markdown",
      "source": [
        "- When we already have a tensor and want to add names (but not change existing ones), we can call the method refine_names on it"
      ],
      "metadata": {
        "id": "7s4SAAYRY80C"
      }
    },
    {
      "cell_type": "code",
      "source": [
        "img_named = img_t.refine_names(..., 'channels', 'rows', 'columns')\n",
        "batch_named = batch_t.refine_names(..., 'channels', 'rows', 'columns')\n",
        "print(\"img named:\", img_named.shape, img_named.names)\n",
        "print(\"batch named:\", batch_named.shape, batch_named.names)"
      ],
      "metadata": {
        "colab": {
          "base_uri": "https://localhost:8080/"
        },
        "id": "fKzC23_hXyhC",
        "outputId": "d1021d6a-2a8f-46c8-ce73-0d7b66b03fb7"
      },
      "execution_count": 21,
      "outputs": [
        {
          "output_type": "stream",
          "name": "stdout",
          "text": [
            "img named: torch.Size([3, 5, 5]) ('channels', 'rows', 'columns')\n",
            "batch named: torch.Size([2, 3, 5, 5]) (None, 'channels', 'rows', 'columns')\n"
          ]
        }
      ]
    },
    {
      "cell_type": "markdown",
      "source": [
        "- align_as returns a tensor with missing dimensions\n",
        "added and existing ones permuted to the right order:"
      ],
      "metadata": {
        "id": "1lb2eQ84ZDXR"
      }
    },
    {
      "cell_type": "code",
      "source": [
        "weights_aligned = weights_named.align_as(img_named)\n",
        "weights_aligned.shape, weights_aligned.names"
      ],
      "metadata": {
        "colab": {
          "base_uri": "https://localhost:8080/"
        },
        "id": "9vOdoJrqYB4u",
        "outputId": "4459fb39-0079-4b3f-e8e9-e729a36c131e"
      },
      "execution_count": 22,
      "outputs": [
        {
          "output_type": "execute_result",
          "data": {
            "text/plain": [
              "(torch.Size([3, 1, 1]), ('channels', 'rows', 'columns'))"
            ]
          },
          "metadata": {},
          "execution_count": 22
        }
      ]
    },
    {
      "cell_type": "code",
      "source": [
        "gray_named = (img_named * weights_aligned).sum('channels')\n",
        "gray_named.shape, gray_named.names"
      ],
      "metadata": {
        "colab": {
          "base_uri": "https://localhost:8080/"
        },
        "id": "4Ws187_RYGz1",
        "outputId": "53a45b31-dc6f-416f-ad9f-d601b6312575"
      },
      "execution_count": 23,
      "outputs": [
        {
          "output_type": "execute_result",
          "data": {
            "text/plain": [
              "(torch.Size([5, 5]), ('rows', 'columns'))"
            ]
          },
          "metadata": {},
          "execution_count": 23
        }
      ]
    },
    {
      "cell_type": "code",
      "source": [
        "gray_plain = gray_named.rename(None)\n",
        "gray_plain.shape, gray_plain.names"
      ],
      "metadata": {
        "colab": {
          "base_uri": "https://localhost:8080/"
        },
        "id": "9XnvAB-gYQQ-",
        "outputId": "d10b9267-b019-43fe-bd29-b5e23029c145"
      },
      "execution_count": 24,
      "outputs": [
        {
          "output_type": "execute_result",
          "data": {
            "text/plain": [
              "(torch.Size([5, 5]), (None, None))"
            ]
          },
          "metadata": {},
          "execution_count": 24
        }
      ]
    },
    {
      "cell_type": "markdown",
      "source": [
        "# Managing a tensor's dtype attribute\n",
        "### Managing a tensor's dtype attribute involves understanding how to inspect, specify, and convert the data type of a tensor."
      ],
      "metadata": {
        "id": "eO3hAzAaYWAE"
      }
    },
    {
      "cell_type": "code",
      "source": [
        "double_points = torch.ones(10, 2, dtype=torch.double)\n",
        "short_points = torch.tensor([[1, 2], [3, 4]], dtype=torch.short)"
      ],
      "metadata": {
        "id": "j6R7a_jiYblS"
      },
      "execution_count": 25,
      "outputs": []
    },
    {
      "cell_type": "code",
      "source": [
        "short_points.dtype"
      ],
      "metadata": {
        "colab": {
          "base_uri": "https://localhost:8080/"
        },
        "id": "Ze9LJGtGZJoz",
        "outputId": "ccd02bd2-62d8-499d-9e72-371b0b4c2e2c"
      },
      "execution_count": 26,
      "outputs": [
        {
          "output_type": "execute_result",
          "data": {
            "text/plain": [
              "torch.int16"
            ]
          },
          "metadata": {},
          "execution_count": 26
        }
      ]
    },
    {
      "cell_type": "code",
      "source": [
        "double_points = torch.zeros(10, 2).double()\n",
        "short_points = torch.ones(10, 2).short()"
      ],
      "metadata": {
        "id": "YwJUXRSaZTHB"
      },
      "execution_count": 27,
      "outputs": []
    },
    {
      "cell_type": "code",
      "source": [
        "double_points = torch.zeros(10, 2).to(torch.double)\n",
        "short_points = torch.ones(10, 2).to(dtype=torch.short)\n"
      ],
      "metadata": {
        "id": "3BTjcN5AZWSd"
      },
      "execution_count": 28,
      "outputs": []
    },
    {
      "cell_type": "markdown",
      "source": [
        "- rand initializes the tensor elements to\n",
        "random numbers between 0 and 1."
      ],
      "metadata": {
        "id": "GqE8R5-SaDvj"
      }
    },
    {
      "cell_type": "code",
      "source": [
        "points_64 = torch.rand(5, dtype=torch.double)\n",
        "points_short = points_64.to(torch.short)\n",
        "\n",
        "\n",
        "points_64 * points_short"
      ],
      "metadata": {
        "colab": {
          "base_uri": "https://localhost:8080/"
        },
        "id": "veme3TyqZfMR",
        "outputId": "d2a0f71d-fcd9-4b3a-eedf-0777b95cf771"
      },
      "execution_count": 29,
      "outputs": [
        {
          "output_type": "execute_result",
          "data": {
            "text/plain": [
              "tensor([0., 0., 0., 0., 0.], dtype=torch.float64)"
            ]
          },
          "metadata": {},
          "execution_count": 29
        }
      ]
    },
    {
      "cell_type": "code",
      "source": [],
      "metadata": {
        "id": "lkTfG9zpZ818"
      },
      "execution_count": 29,
      "outputs": []
    },
    {
      "cell_type": "markdown",
      "source": [
        "# The tensor API\n",
        "### a set of programming interfaces used to work with tensors, which are multi-dimensional arrays"
      ],
      "metadata": {
        "id": "vIVGJ41-aKg7"
      }
    },
    {
      "cell_type": "code",
      "source": [
        "a = torch.ones(3, 2)\n",
        "a_t = torch.transpose(a, 0, 1)"
      ],
      "metadata": {
        "id": "UgqdUKgWaM3U"
      },
      "execution_count": 30,
      "outputs": []
    },
    {
      "cell_type": "code",
      "source": [
        "a.shape, a_t.shape"
      ],
      "metadata": {
        "colab": {
          "base_uri": "https://localhost:8080/"
        },
        "id": "0ATB9OlraS68",
        "outputId": "723c7f56-9390-4fb4-ecd8-902f592d9f1d"
      },
      "execution_count": 31,
      "outputs": [
        {
          "output_type": "execute_result",
          "data": {
            "text/plain": [
              "(torch.Size([3, 2]), torch.Size([2, 3]))"
            ]
          },
          "metadata": {},
          "execution_count": 31
        }
      ]
    },
    {
      "cell_type": "code",
      "source": [
        "a = torch.ones(3, 2)\n",
        "a_t = a.transpose(0, 1)"
      ],
      "metadata": {
        "id": "n9Gaw1uRaekG"
      },
      "execution_count": 32,
      "outputs": []
    },
    {
      "cell_type": "markdown",
      "source": [
        "# Indexing into storage"
      ],
      "metadata": {
        "id": "Tqfc-l1dat-7"
      }
    },
    {
      "cell_type": "markdown",
      "source": [
        "### The storage for a given tensor is accessible using the .storage property:"
      ],
      "metadata": {
        "id": "6fJd3khcdrLo"
      }
    },
    {
      "cell_type": "code",
      "source": [
        "points = torch.tensor([[4.0,1.0], [5.0, 3.0], [2.0, 1.0]])\n",
        "points.storage()"
      ],
      "metadata": {
        "colab": {
          "base_uri": "https://localhost:8080/"
        },
        "id": "gkda9USuayin",
        "outputId": "b5b0f18c-6d25-4751-f041-f9ee2108ea57"
      },
      "execution_count": 33,
      "outputs": [
        {
          "output_type": "stream",
          "name": "stderr",
          "text": [
            "/tmp/ipython-input-33-3168638266.py:2: UserWarning: TypedStorage is deprecated. It will be removed in the future and UntypedStorage will be the only storage class. This should only matter to you if you are using storages directly.  To access UntypedStorage directly, use tensor.untyped_storage() instead of tensor.storage()\n",
            "  points.storage()\n"
          ]
        },
        {
          "output_type": "execute_result",
          "data": {
            "text/plain": [
              " 4.0\n",
              " 1.0\n",
              " 5.0\n",
              " 3.0\n",
              " 2.0\n",
              " 1.0\n",
              "[torch.storage.TypedStorage(dtype=torch.float32, device=cpu) of size 6]"
            ]
          },
          "metadata": {},
          "execution_count": 33
        }
      ]
    },
    {
      "cell_type": "markdown",
      "source": [
        "- Even though the tensor reports itself as having three rows and two columns, the storage under the hood is a contiguous array of size 6.\n",
        "- In this sense, the tensor just knows how to translate a pair of indices into a location in the storage.\n",
        "- We can also index into a storage manually. For instance:"
      ],
      "metadata": {
        "id": "AYer4yrZdyUR"
      }
    },
    {
      "cell_type": "code",
      "source": [
        "points_storage = points.storage()\n",
        "points_storage[0]"
      ],
      "metadata": {
        "id": "xeC5sunibx2P",
        "outputId": "cc6b5da1-a4e4-4e11-e33a-3fc16357c425",
        "colab": {
          "base_uri": "https://localhost:8080/"
        }
      },
      "execution_count": 34,
      "outputs": [
        {
          "output_type": "execute_result",
          "data": {
            "text/plain": [
              "4.0"
            ]
          },
          "metadata": {},
          "execution_count": 34
        }
      ]
    },
    {
      "cell_type": "markdown",
      "source": [
        "### We can’t index a storage of a 2D tensor using two indices. The layout of a storage is always one-dimensional, regardless of the dimensionality of any and all tensors that might refer to it."
      ],
      "metadata": {
        "id": "LOBkC5BGeBIW"
      }
    },
    {
      "cell_type": "code",
      "source": [
        "points = torch.tensor([[4.0, 1.0], [5.0, 3.0], [2.0, 1.0]])\n",
        "points_storage = points.storage()\n",
        "points_storage[0] = 2.0\n",
        "points"
      ],
      "metadata": {
        "colab": {
          "base_uri": "https://localhost:8080/"
        },
        "id": "bRksvX4heyUV",
        "outputId": "c57a3a1a-424a-4e36-fcec-dfe837210aa2"
      },
      "execution_count": 35,
      "outputs": [
        {
          "output_type": "execute_result",
          "data": {
            "text/plain": [
              "tensor([[2., 1.],\n",
              "        [5., 3.],\n",
              "        [2., 1.]])"
            ]
          },
          "metadata": {},
          "execution_count": 35
        }
      ]
    },
    {
      "cell_type": "markdown",
      "source": [
        "# Modifying stored values: In-place operations"
      ],
      "metadata": {
        "id": "UCYwHxJ0e6Yj"
      }
    },
    {
      "cell_type": "markdown",
      "source": [
        "- In addition to the operations on tensors introduced in the previous section, a small number of operations exist only as methods of the Tensor object. They are recognizable from a trailing underscore in their name, like zero_, which indicates that the method operates in place by modifying the input instead of creating a new output tensor and returning it.\n",
        "-  For instance, the zero_ method zeros out all the elements of the input.\n",
        "- Any method without the trailing underscore leaves the source tensor unchanged and instead returns a new tensor:"
      ],
      "metadata": {
        "id": "yOyN-vEQfFNp"
      }
    },
    {
      "cell_type": "code",
      "source": [
        "a = torch.ones(3, 2)\n",
        "a.zero_()\n",
        "a"
      ],
      "metadata": {
        "colab": {
          "base_uri": "https://localhost:8080/"
        },
        "id": "mXWSnDhZe7hq",
        "outputId": "00b2c25e-4784-4821-8d7c-bf31f03d7f4e"
      },
      "execution_count": 36,
      "outputs": [
        {
          "output_type": "execute_result",
          "data": {
            "text/plain": [
              "tensor([[0., 0.],\n",
              "        [0., 0.],\n",
              "        [0., 0.]])"
            ]
          },
          "metadata": {},
          "execution_count": 36
        }
      ]
    },
    {
      "cell_type": "markdown",
      "source": [
        "# Tensor metadata: Size, offset, and stride"
      ],
      "metadata": {
        "id": "LxrcYFO4fTcf"
      }
    },
    {
      "cell_type": "markdown",
      "source": [
        "- Size (or Shape): Defines the logical dimensions of the tensor (e.g., how many rows and columns a matrix has).\n",
        "- Offset: Specifies the starting point of the tensor's data within the underlying, contiguous memory block or storage.\n",
        "- Stride: Indicates how many elements to skip in the storage to access the next element along each dimension of the tensor. For instance, a stride of (2,1) for a 2x3 tensor suggests that to move to the next row, one needs to skip 2 elements in memory, while to move to the next column, only 1 element needs to be skipped."
      ],
      "metadata": {
        "id": "rjy9eC4Vfg9V"
      }
    },
    {
      "cell_type": "markdown",
      "source": [
        "## Views of another tensor’s storage"
      ],
      "metadata": {
        "id": "rOWB9GmUfnR8"
      }
    },
    {
      "cell_type": "code",
      "source": [
        "#We can get the second point in the tensor by providing the corresponding index:\n",
        "points = torch.tensor([[4.0, 1.0], [5.0, 3.0], [2.0, 1.0]])\n",
        "second_point = points[1]\n",
        "second_point.storage_offset()"
      ],
      "metadata": {
        "colab": {
          "base_uri": "https://localhost:8080/"
        },
        "id": "Od5P0xhkfQqV",
        "outputId": "e9b6e70a-809b-4598-d420-7fa486bfe743"
      },
      "execution_count": 37,
      "outputs": [
        {
          "output_type": "execute_result",
          "data": {
            "text/plain": [
              "2"
            ]
          },
          "metadata": {},
          "execution_count": 37
        }
      ]
    },
    {
      "cell_type": "code",
      "source": [
        "second_point.size()"
      ],
      "metadata": {
        "colab": {
          "base_uri": "https://localhost:8080/"
        },
        "id": "0H4revp9fwLo",
        "outputId": "c1626176-2215-4f56-eeda-330ca5d4aaf8"
      },
      "execution_count": 38,
      "outputs": [
        {
          "output_type": "execute_result",
          "data": {
            "text/plain": [
              "torch.Size([2])"
            ]
          },
          "metadata": {},
          "execution_count": 38
        }
      ]
    },
    {
      "cell_type": "code",
      "source": [
        "second_point.shape\n"
      ],
      "metadata": {
        "colab": {
          "base_uri": "https://localhost:8080/"
        },
        "id": "4wrpLZ79f0QE",
        "outputId": "f8a550d1-c36f-4c82-f386-3956286f8896"
      },
      "execution_count": 39,
      "outputs": [
        {
          "output_type": "execute_result",
          "data": {
            "text/plain": [
              "torch.Size([2])"
            ]
          },
          "metadata": {},
          "execution_count": 39
        }
      ]
    },
    {
      "cell_type": "code",
      "source": [
        "points.stride()"
      ],
      "metadata": {
        "colab": {
          "base_uri": "https://localhost:8080/"
        },
        "id": "2cP8jcj_f3RW",
        "outputId": "fb33fff8-c9eb-465f-910a-78eac6e79471"
      },
      "execution_count": 40,
      "outputs": [
        {
          "output_type": "execute_result",
          "data": {
            "text/plain": [
              "(2, 1)"
            ]
          },
          "metadata": {},
          "execution_count": 40
        }
      ]
    },
    {
      "cell_type": "code",
      "source": [
        "second_point = points[1]\n",
        "second_point.size()"
      ],
      "metadata": {
        "colab": {
          "base_uri": "https://localhost:8080/"
        },
        "id": "IysgAFPAf6r0",
        "outputId": "9ecb1776-85f2-43f6-bab1-c0d507a2d7b0"
      },
      "execution_count": 41,
      "outputs": [
        {
          "output_type": "execute_result",
          "data": {
            "text/plain": [
              "torch.Size([2])"
            ]
          },
          "metadata": {},
          "execution_count": 41
        }
      ]
    },
    {
      "cell_type": "code",
      "source": [
        "second_point.storage_offset()"
      ],
      "metadata": {
        "colab": {
          "base_uri": "https://localhost:8080/"
        },
        "id": "vIgUlkhnf8Pp",
        "outputId": "e35ac01b-2d6a-410f-d40a-758727096f0e"
      },
      "execution_count": 42,
      "outputs": [
        {
          "output_type": "execute_result",
          "data": {
            "text/plain": [
              "2"
            ]
          },
          "metadata": {},
          "execution_count": 42
        }
      ]
    },
    {
      "cell_type": "code",
      "source": [
        "second_point.stride()"
      ],
      "metadata": {
        "colab": {
          "base_uri": "https://localhost:8080/"
        },
        "id": "wa69TE2qf-Fh",
        "outputId": "5d5a6cd6-2ea9-4d02-cd2a-74b12535e6ae"
      },
      "execution_count": 43,
      "outputs": [
        {
          "output_type": "execute_result",
          "data": {
            "text/plain": [
              "(1,)"
            ]
          },
          "metadata": {},
          "execution_count": 43
        }
      ]
    },
    {
      "cell_type": "markdown",
      "source": [
        "###subtensor has one less dimension, as we would expect,while still indexing the same storage as the original points tensor.\n",
        "###This also means changing the subtensor will have a side effect on the original tensor:"
      ],
      "metadata": {
        "id": "Phzu_pVugLyN"
      }
    },
    {
      "cell_type": "code",
      "source": [
        "points = torch.tensor([[4.0, 1.0], [5.0, 3.0], [2.0, 1.0]])\n",
        "second_point = points[1]\n",
        "second_point[0] = 10.0\n",
        "points"
      ],
      "metadata": {
        "colab": {
          "base_uri": "https://localhost:8080/"
        },
        "id": "8pBC0tHSgBwO",
        "outputId": "b1adc421-66fa-49f7-c258-0dd5bbe459d5"
      },
      "execution_count": 44,
      "outputs": [
        {
          "output_type": "execute_result",
          "data": {
            "text/plain": [
              "tensor([[ 4.,  1.],\n",
              "        [10.,  3.],\n",
              "        [ 2.,  1.]])"
            ]
          },
          "metadata": {},
          "execution_count": 44
        }
      ]
    },
    {
      "cell_type": "code",
      "source": [
        "points = torch.tensor([[4.0, 1.0], [5.0, 3.0], [2.0, 1.0]])\n",
        "second_point = points[1].clone()\n",
        "second_point[0] = 10.0\n",
        "points"
      ],
      "metadata": {
        "colab": {
          "base_uri": "https://localhost:8080/"
        },
        "id": "ziijCh42gPmt",
        "outputId": "5bf2350a-0a20-44e8-c18b-af7ccefc538b"
      },
      "execution_count": 45,
      "outputs": [
        {
          "output_type": "execute_result",
          "data": {
            "text/plain": [
              "tensor([[4., 1.],\n",
              "        [5., 3.],\n",
              "        [2., 1.]])"
            ]
          },
          "metadata": {},
          "execution_count": 45
        }
      ]
    },
    {
      "cell_type": "markdown",
      "source": [
        "## Transposing without copying"
      ],
      "metadata": {
        "id": "c_2F5hFegXDQ"
      }
    },
    {
      "cell_type": "code",
      "source": [
        "points = torch.tensor([[4.0, 1.0], [5.0, 3.0], [2.0, 1.0]])\n",
        "points"
      ],
      "metadata": {
        "colab": {
          "base_uri": "https://localhost:8080/"
        },
        "id": "z_XDFz5ygUHM",
        "outputId": "9c3fd047-3f20-4ee9-f407-8f9f3facd4bc"
      },
      "execution_count": 46,
      "outputs": [
        {
          "output_type": "execute_result",
          "data": {
            "text/plain": [
              "tensor([[4., 1.],\n",
              "        [5., 3.],\n",
              "        [2., 1.]])"
            ]
          },
          "metadata": {},
          "execution_count": 46
        }
      ]
    },
    {
      "cell_type": "code",
      "source": [
        "points_t = points.t()\n",
        "points_t"
      ],
      "metadata": {
        "colab": {
          "base_uri": "https://localhost:8080/"
        },
        "id": "tg7sdwLDgVXW",
        "outputId": "0023a113-d577-4848-cac9-afe009f8da49"
      },
      "execution_count": 47,
      "outputs": [
        {
          "output_type": "execute_result",
          "data": {
            "text/plain": [
              "tensor([[4., 5., 2.],\n",
              "        [1., 3., 1.]])"
            ]
          },
          "metadata": {},
          "execution_count": 47
        }
      ]
    },
    {
      "cell_type": "markdown",
      "source": [
        "###We can easily verify that the two tensors share the same storage"
      ],
      "metadata": {
        "id": "FOpB7pGBghco"
      }
    },
    {
      "cell_type": "code",
      "source": [
        "id(points.storage()) == id(points_t.storage())"
      ],
      "metadata": {
        "colab": {
          "base_uri": "https://localhost:8080/"
        },
        "id": "Va09c16QgfFZ",
        "outputId": "1fbb9de7-ecf6-4505-dc91-673b6ead30a5"
      },
      "execution_count": 48,
      "outputs": [
        {
          "output_type": "execute_result",
          "data": {
            "text/plain": [
              "True"
            ]
          },
          "metadata": {},
          "execution_count": 48
        }
      ]
    },
    {
      "cell_type": "markdown",
      "source": [
        "###and that they differ only in shape and stride:"
      ],
      "metadata": {
        "id": "5Byjl9KiglMs"
      }
    },
    {
      "cell_type": "code",
      "source": [
        "x = points.stride()\n",
        "y = points_t.stride()\n",
        "print(x,y)"
      ],
      "metadata": {
        "colab": {
          "base_uri": "https://localhost:8080/"
        },
        "id": "LSWloNQ5giPX",
        "outputId": "9c9d4ec9-f2d8-497b-b179-64a60fcbd180"
      },
      "execution_count": 49,
      "outputs": [
        {
          "output_type": "stream",
          "name": "stdout",
          "text": [
            "(2, 1) (1, 2)\n"
          ]
        }
      ]
    },
    {
      "cell_type": "markdown",
      "source": [
        "## Transposing in higher dimensions\n",
        "### Transposing in PyTorch is not limited to matrices. We can transpose a multidimensional array by specifying the two dimensions along which transposing (flipping shape and stride) should occur:"
      ],
      "metadata": {
        "id": "uRxIWvaTgz5y"
      }
    },
    {
      "cell_type": "code",
      "source": [
        "some_t = torch.ones(3, 4, 5)\n",
        "transpose_t = some_t.transpose(0, 2)\n",
        "some_t.shape"
      ],
      "metadata": {
        "colab": {
          "base_uri": "https://localhost:8080/"
        },
        "id": "96nnkxRBg5OP",
        "outputId": "6ba5a5dd-d0e8-4d2d-cdba-410898b556e2"
      },
      "execution_count": 50,
      "outputs": [
        {
          "output_type": "execute_result",
          "data": {
            "text/plain": [
              "torch.Size([3, 4, 5])"
            ]
          },
          "metadata": {},
          "execution_count": 50
        }
      ]
    },
    {
      "cell_type": "code",
      "source": [
        "transpose_t.shape"
      ],
      "metadata": {
        "colab": {
          "base_uri": "https://localhost:8080/"
        },
        "id": "xEt2sZvng-mf",
        "outputId": "c0a45e6d-8ceb-4e27-97f2-cd5d1121bb1a"
      },
      "execution_count": 51,
      "outputs": [
        {
          "output_type": "execute_result",
          "data": {
            "text/plain": [
              "torch.Size([5, 4, 3])"
            ]
          },
          "metadata": {},
          "execution_count": 51
        }
      ]
    },
    {
      "cell_type": "code",
      "source": [
        "torch.Size([5, 4, 3])"
      ],
      "metadata": {
        "colab": {
          "base_uri": "https://localhost:8080/"
        },
        "id": "jr4vk6bVhBEg",
        "outputId": "fd4e4e44-a2d8-475e-f2a4-f3cf813958a3"
      },
      "execution_count": 52,
      "outputs": [
        {
          "output_type": "execute_result",
          "data": {
            "text/plain": [
              "torch.Size([5, 4, 3])"
            ]
          },
          "metadata": {},
          "execution_count": 52
        }
      ]
    },
    {
      "cell_type": "code",
      "source": [
        "some_t.stride()\n"
      ],
      "metadata": {
        "colab": {
          "base_uri": "https://localhost:8080/"
        },
        "id": "Qi1fvRtzhCWi",
        "outputId": "8a887053-e5e1-49f4-db88-6e2b1ac11886"
      },
      "execution_count": 53,
      "outputs": [
        {
          "output_type": "execute_result",
          "data": {
            "text/plain": [
              "(20, 5, 1)"
            ]
          },
          "metadata": {},
          "execution_count": 53
        }
      ]
    },
    {
      "cell_type": "code",
      "source": [
        "transpose_t.stride()"
      ],
      "metadata": {
        "colab": {
          "base_uri": "https://localhost:8080/"
        },
        "id": "x0eoUYqOhFuq",
        "outputId": "49c9a28d-1b71-4292-c803-7c1fa3dda56c"
      },
      "execution_count": 54,
      "outputs": [
        {
          "output_type": "execute_result",
          "data": {
            "text/plain": [
              "(1, 5, 20)"
            ]
          },
          "metadata": {},
          "execution_count": 54
        }
      ]
    },
    {
      "cell_type": "markdown",
      "source": [
        "## Contiguous tensors\n",
        "- Some tensor operations in PyTorch only work on contiguous tensors, such as *view*"
      ],
      "metadata": {
        "id": "OJvEOsSAhKTd"
      }
    },
    {
      "cell_type": "code",
      "source": [
        "points.is_contiguous()"
      ],
      "metadata": {
        "colab": {
          "base_uri": "https://localhost:8080/"
        },
        "id": "EiFcEleUhJ5g",
        "outputId": "05b8a0d2-19f0-471e-e9a3-5616d5430a4a"
      },
      "execution_count": 55,
      "outputs": [
        {
          "output_type": "execute_result",
          "data": {
            "text/plain": [
              "True"
            ]
          },
          "metadata": {},
          "execution_count": 55
        }
      ]
    },
    {
      "cell_type": "code",
      "source": [
        "points_t.is_contiguous()"
      ],
      "metadata": {
        "colab": {
          "base_uri": "https://localhost:8080/"
        },
        "id": "9-2CXeKZhUjN",
        "outputId": "ccb6f895-7407-4ecd-e6ee-e935da921f8a"
      },
      "execution_count": 56,
      "outputs": [
        {
          "output_type": "execute_result",
          "data": {
            "text/plain": [
              "False"
            ]
          },
          "metadata": {},
          "execution_count": 56
        }
      ]
    },
    {
      "cell_type": "markdown",
      "source": [
        "###We can obtain a new contiguous tensor from a non-contiguous one using the contiguous method. The content of the tensor will be the same, but the stride will change, as will the storage:"
      ],
      "metadata": {
        "id": "SZJk2NtehXhi"
      }
    },
    {
      "cell_type": "code",
      "source": [
        "points = torch.tensor([[4.0, 1.0], [5.0, 3.0], [2.0, 1.0]])\n",
        "points_t = points.t()\n",
        "points_t"
      ],
      "metadata": {
        "colab": {
          "base_uri": "https://localhost:8080/"
        },
        "id": "Y6NgKgVvhZQK",
        "outputId": "e5c86bf4-8678-4cf8-cd23-ec2906db3953"
      },
      "execution_count": 57,
      "outputs": [
        {
          "output_type": "execute_result",
          "data": {
            "text/plain": [
              "tensor([[4., 5., 2.],\n",
              "        [1., 3., 1.]])"
            ]
          },
          "metadata": {},
          "execution_count": 57
        }
      ]
    },
    {
      "cell_type": "code",
      "source": [
        "points_t.storage()"
      ],
      "metadata": {
        "colab": {
          "base_uri": "https://localhost:8080/"
        },
        "id": "fS8WDUyThdeo",
        "outputId": "f99e7f17-8173-48a4-c0e3-1e2757487d8a"
      },
      "execution_count": 58,
      "outputs": [
        {
          "output_type": "execute_result",
          "data": {
            "text/plain": [
              " 4.0\n",
              " 1.0\n",
              " 5.0\n",
              " 3.0\n",
              " 2.0\n",
              " 1.0\n",
              "[torch.storage.TypedStorage(dtype=torch.float32, device=cpu) of size 6]"
            ]
          },
          "metadata": {},
          "execution_count": 58
        }
      ]
    },
    {
      "cell_type": "code",
      "source": [
        "points_t.stride()"
      ],
      "metadata": {
        "colab": {
          "base_uri": "https://localhost:8080/"
        },
        "id": "5TN6TdwZhhLr",
        "outputId": "f5b6286c-5e06-4a7f-b811-69251d54d57d"
      },
      "execution_count": 59,
      "outputs": [
        {
          "output_type": "execute_result",
          "data": {
            "text/plain": [
              "(1, 2)"
            ]
          },
          "metadata": {},
          "execution_count": 59
        }
      ]
    },
    {
      "cell_type": "code",
      "source": [
        "points_t_cont = points_t.contiguous()\n",
        "points_t_cont"
      ],
      "metadata": {
        "colab": {
          "base_uri": "https://localhost:8080/"
        },
        "id": "_O-cjHMghi3L",
        "outputId": "6795dd1e-947a-4b1e-b4a7-f152ecc304c7"
      },
      "execution_count": 60,
      "outputs": [
        {
          "output_type": "execute_result",
          "data": {
            "text/plain": [
              "tensor([[4., 5., 2.],\n",
              "        [1., 3., 1.]])"
            ]
          },
          "metadata": {},
          "execution_count": 60
        }
      ]
    },
    {
      "cell_type": "code",
      "source": [
        "points_t_cont.stride()"
      ],
      "metadata": {
        "colab": {
          "base_uri": "https://localhost:8080/"
        },
        "id": "7y92pVDWhlPr",
        "outputId": "ab89b154-126f-4330-b71f-432800474c58"
      },
      "execution_count": 61,
      "outputs": [
        {
          "output_type": "execute_result",
          "data": {
            "text/plain": [
              "(3, 1)"
            ]
          },
          "metadata": {},
          "execution_count": 61
        }
      ]
    },
    {
      "cell_type": "code",
      "source": [
        "points_t_cont.storage()"
      ],
      "metadata": {
        "colab": {
          "base_uri": "https://localhost:8080/"
        },
        "id": "xB5FLii6hnwc",
        "outputId": "8a04e776-e17f-4c7c-e959-308dcca407f6"
      },
      "execution_count": 62,
      "outputs": [
        {
          "output_type": "execute_result",
          "data": {
            "text/plain": [
              " 4.0\n",
              " 5.0\n",
              " 2.0\n",
              " 1.0\n",
              " 3.0\n",
              " 1.0\n",
              "[torch.storage.TypedStorage(dtype=torch.float32, device=cpu) of size 6]"
            ]
          },
          "metadata": {},
          "execution_count": 62
        }
      ]
    },
    {
      "cell_type": "markdown",
      "source": [
        "# NumPy interoperability"
      ],
      "metadata": {
        "id": "E3mf8lhmhrJl"
      }
    },
    {
      "cell_type": "markdown",
      "source": [
        "### PyTorch tensors can be converted to NumPy arrays and vice versa very efficiently.By doing so, we can take advantage of the huge swath of functionality in the wider Python ecosystem that has built up around the NumPy array type. This zero-copy interoperability with NumPy arrays is due to the storage system working with the Python buffer protocol"
      ],
      "metadata": {
        "id": "TB97ATPyh1sd"
      }
    },
    {
      "cell_type": "code",
      "source": [
        "points = torch.ones(3, 4)\n",
        "points_np = points.numpy()\n",
        "points_np"
      ],
      "metadata": {
        "colab": {
          "base_uri": "https://localhost:8080/"
        },
        "id": "RfQLV-yTiBL7",
        "outputId": "5c801b38-8279-4e67-ba32-27d5f4e515d4"
      },
      "execution_count": 63,
      "outputs": [
        {
          "output_type": "execute_result",
          "data": {
            "text/plain": [
              "array([[1., 1., 1., 1.],\n",
              "       [1., 1., 1., 1.],\n",
              "       [1., 1., 1., 1.]], dtype=float32)"
            ]
          },
          "metadata": {},
          "execution_count": 63
        }
      ]
    },
    {
      "cell_type": "markdown",
      "source": [
        "###Conversely, we can obtain a PyTorch tensor from a NumPy array this way"
      ],
      "metadata": {
        "id": "cEj73iUMiG98"
      }
    },
    {
      "cell_type": "code",
      "source": [
        "points = torch.from_numpy(points_np)\n",
        "points"
      ],
      "metadata": {
        "colab": {
          "base_uri": "https://localhost:8080/"
        },
        "id": "z9tMGmWYiHhD",
        "outputId": "35d76dca-9ccb-45e8-91c1-4aa78e2d3eb6"
      },
      "execution_count": 64,
      "outputs": [
        {
          "output_type": "execute_result",
          "data": {
            "text/plain": [
              "tensor([[1., 1., 1., 1.],\n",
              "        [1., 1., 1., 1.],\n",
              "        [1., 1., 1., 1.]])"
            ]
          },
          "metadata": {},
          "execution_count": 64
        }
      ]
    }
  ]
}